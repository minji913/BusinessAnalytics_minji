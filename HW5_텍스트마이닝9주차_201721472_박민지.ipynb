{
 "cells": [
  {
   "cell_type": "markdown",
   "metadata": {},
   "source": [
    "# 1. PANDAS_TOPICMODELING \n"
   ]
  },
  {
   "cell_type": "markdown",
   "metadata": {},
   "source": [
    "### Topic Modeling이란?\n",
    "\n",
    "토픽모델링은 텍스트 형태로 되어 있는 다수의 문서들로부터 공통적으로 내재되어 있는 주제들을 추출하기 위한 방법론이다. <br>\n",
    "토픽모델링의 기본적인 가정은, 저자들이 문서를 작성할 때 먼저 특정한 주제들을 정하고 나서 그러한 주제들로부터 문장을 구성한다는 것이다. 따라서 문서를 구성하는 단어들은 그 주제들로부터 파생되어진 것으로 볼 수 있으며, 토픽모델링은 문서와 단어들에 대해 통계적인 추론을 수행하여 본래의 주제들을 찾아내는 방법이라고 할 수 있다.  <br>\n",
    "이러한 작업을 하기 위해서는 먼저 자연어로 기술되어 있는 문서들에 대해 형태소 분석을 함으로써 문장들을 개별 단어로 분리해야 한다. \n",
    " <br>\n",
    "토픽모델링의 가장 대표적인 알고리즘은 LDA(Latent Dirichlet Allocation)로 알려져 있다.  <br>\n",
    "LDA는 Blei et al. (2003)에 의해 제안된 알고리즘으로, 앞서 설명한 바와 같이, 확률기법을 기반으로 하여 문서의 토픽 분포를 추론한다.  <br>\n",
    "LDA에서 토픽은 주제를 의미하는 용어로 사용되며, 각 문서들이 특정한 주제에 속할 확률분포와 주제로부터 특정 단어들이 파생되어 나올 확률분포가 주어졌을 때, 이 두 확률분포를 조합하여 각 문서들에 들어가는 단어들의 확률분포를 계산해낸다.  <br>\n",
    "아래 그림에서 θ는 문서들이 각 주제들에 속할 확률분포를 나타내며 디리클레분포의 매개변수인 α에 의해 결정된다.  <br>\n",
    "그림에서 N은 특정 문서에 속한 단어의 집합이며, M은 전체 문서의 집합을 나타낸다. z는 문서 내의 단어들이 주제들에 속할 확률분포를 나타내며, 이는 θ에 의한 다항분포로 선택된다.  <br>\n",
    "β는 각 주제가 특정 단어를 생성할 확률을 나타내는 확률분포이며, 결국 z와 β에 의해 실제 문서들의 단어분포인 w가 결정된다.  <br>\n",
    "이 모형에서 w만이 실제로 문서들을 통해 주어진 분포이고 나머지는 모두 잠재변수이다.  <br>\n",
    "LDA 알고리즘에서는 주어진 문서와 토픽들의 사전확률 분포인 α와 토픽 내에서 단어의 사전확률분포인 β의 파라미터 값을 활용해 반복적인 시뮬레이션을 통해 z와 θ를 추정한다. \n"
   ]
  },
  {
   "cell_type": "code",
   "execution_count": 1,
   "metadata": {},
   "outputs": [
    {
     "name": "stdout",
     "output_type": "stream",
     "text": [
      "리뷰 수: 14967\n",
      "리뷰영화: {'신과함께', '라라랜드', '범죄도시', '택시운전사', '곤지암', '인피니티 워', '코코'}\n"
     ]
    },
    {
     "name": "stderr",
     "output_type": "stream",
     "text": [
      "C:\\Users\\pmg09\\Anaconda3\\lib\\site-packages\\ipykernel_launcher.py:7: DeprecationWarning: \n",
      ".ix is deprecated. Please use\n",
      ".loc for label based indexing or\n",
      ".iloc for positional indexing\n",
      "\n",
      "See the documentation here:\n",
      "http://pandas.pydata.org/pandas-docs/stable/indexing.html#ix-indexer-is-deprecated\n",
      "  import sys\n"
     ]
    }
   ],
   "source": [
    "#다음무비에서 추출한 영화리뷰\n",
    "import pandas as pd\n",
    "\n",
    "movie = pd.read_csv('movie_data_new.csv', header = None) # header를 None으로 설정해 header가 없음을 알림\n",
    "\n",
    "print('리뷰 수:', len(movie))\n",
    "print('리뷰영화:', set(movie.ix[:,2])) # pandas dataframe에 접근하기 위해서는 ix를 사용. 전체행에 대해 3번째 열만 인덱싱"
   ]
  },
  {
   "cell_type": "code",
   "execution_count": 2,
   "metadata": {},
   "outputs": [
    {
     "data": {
      "text/html": [
       "<div>\n",
       "<style scoped>\n",
       "    .dataframe tbody tr th:only-of-type {\n",
       "        vertical-align: middle;\n",
       "    }\n",
       "\n",
       "    .dataframe tbody tr th {\n",
       "        vertical-align: top;\n",
       "    }\n",
       "\n",
       "    .dataframe thead th {\n",
       "        text-align: right;\n",
       "    }\n",
       "</style>\n",
       "<table border=\"1\" class=\"dataframe\">\n",
       "  <thead>\n",
       "    <tr style=\"text-align: right;\">\n",
       "      <th></th>\n",
       "      <th>0</th>\n",
       "      <th>1</th>\n",
       "      <th>2</th>\n",
       "    </tr>\n",
       "  </thead>\n",
       "  <tbody>\n",
       "    <tr>\n",
       "      <th>0</th>\n",
       "      <td>헐..다 죽었어....나중에 앤트맨 보다가도 깜놀...</td>\n",
       "      <td>10</td>\n",
       "      <td>인피니티 워</td>\n",
       "    </tr>\n",
       "    <tr>\n",
       "      <th>1</th>\n",
       "      <td>충격 결말</td>\n",
       "      <td>9</td>\n",
       "      <td>인피니티 워</td>\n",
       "    </tr>\n",
       "    <tr>\n",
       "      <th>2</th>\n",
       "      <td>응집력</td>\n",
       "      <td>8</td>\n",
       "      <td>인피니티 워</td>\n",
       "    </tr>\n",
       "    <tr>\n",
       "      <th>3</th>\n",
       "      <td>개연성은 무시해라 액션을 즐겨라 스타로드가 이끌어준다 각각의 영웅들을 즐겨라 그리고...</td>\n",
       "      <td>8</td>\n",
       "      <td>인피니티 워</td>\n",
       "    </tr>\n",
       "    <tr>\n",
       "      <th>4</th>\n",
       "      <td>내가졸라이상하네</td>\n",
       "      <td>4</td>\n",
       "      <td>인피니티 워</td>\n",
       "    </tr>\n",
       "    <tr>\n",
       "      <th>5</th>\n",
       "      <td>대박</td>\n",
       "      <td>10</td>\n",
       "      <td>인피니티 워</td>\n",
       "    </tr>\n",
       "    <tr>\n",
       "      <th>6</th>\n",
       "      <td>정말 지루할틈없이 넘잘만들었다 역시 대단하다</td>\n",
       "      <td>9</td>\n",
       "      <td>인피니티 워</td>\n",
       "    </tr>\n",
       "    <tr>\n",
       "      <th>7</th>\n",
       "      <td>역시 어벤져스!!</td>\n",
       "      <td>9</td>\n",
       "      <td>인피니티 워</td>\n",
       "    </tr>\n",
       "    <tr>\n",
       "      <th>8</th>\n",
       "      <td>마지막에 누구한테 연락한거지? 궁금</td>\n",
       "      <td>9</td>\n",
       "      <td>인피니티 워</td>\n",
       "    </tr>\n",
       "    <tr>\n",
       "      <th>9</th>\n",
       "      <td>다음 편이 궁굼해지네요^^</td>\n",
       "      <td>10</td>\n",
       "      <td>인피니티 워</td>\n",
       "    </tr>\n",
       "  </tbody>\n",
       "</table>\n",
       "</div>"
      ],
      "text/plain": [
       "                                                   0   1       2\n",
       "0                     헐..다 죽었어....나중에 앤트맨 보다가도 깜놀...  10  인피니티 워\n",
       "1                                              충격 결말   9  인피니티 워\n",
       "2                                                응집력   8  인피니티 워\n",
       "3  개연성은 무시해라 액션을 즐겨라 스타로드가 이끌어준다 각각의 영웅들을 즐겨라 그리고...   8  인피니티 워\n",
       "4                                           내가졸라이상하네   4  인피니티 워\n",
       "5                                                 대박  10  인피니티 워\n",
       "6                           정말 지루할틈없이 넘잘만들었다 역시 대단하다   9  인피니티 워\n",
       "7                                          역시 어벤져스!!   9  인피니티 워\n",
       "8                                마지막에 누구한테 연락한거지? 궁금   9  인피니티 워\n",
       "9                                     다음 편이 궁굼해지네요^^  10  인피니티 워"
      ]
     },
     "execution_count": 2,
     "metadata": {},
     "output_type": "execute_result"
    }
   ],
   "source": [
    "movie[:10] #처음부터 9까지"
   ]
  },
  {
   "cell_type": "code",
   "execution_count": 3,
   "metadata": {},
   "outputs": [
    {
     "name": "stderr",
     "output_type": "stream",
     "text": [
      "C:\\Users\\pmg09\\Anaconda3\\lib\\site-packages\\ipykernel_launcher.py:1: DeprecationWarning: \n",
      ".ix is deprecated. Please use\n",
      ".loc for label based indexing or\n",
      ".iloc for positional indexing\n",
      "\n",
      "See the documentation here:\n",
      "http://pandas.pydata.org/pandas-docs/stable/indexing.html#ix-indexer-is-deprecated\n",
      "  \"\"\"Entry point for launching an IPython kernel.\n"
     ]
    }
   ],
   "source": [
    "text = movie.ix[:,0] # 전체행에 대해 1번째 열만 인덱싱 - 리뷰들만 가져옴"
   ]
  },
  {
   "cell_type": "markdown",
   "metadata": {},
   "source": [
    "# 한글 처리를 위해서는 konlpy가 필요\n",
    "\n",
    "topic modeling은 count vector를 사용하므로 sklearn의 CountVectorizer를 사용"
   ]
  },
  {
   "cell_type": "code",
   "execution_count": 4,
   "metadata": {},
   "outputs": [
    {
     "data": {
      "text/plain": [
       "(14967, 1000)"
      ]
     },
     "execution_count": 4,
     "metadata": {},
     "output_type": "execute_result"
    }
   ],
   "source": [
    "from konlpy.tag import Okt #konlpy에서 Twitter 형태소 분석기를 import\n",
    "twitter_tag = Okt()\n",
    "\n",
    "from sklearn.feature_extraction.text import CountVectorizer\n",
    "\n",
    "vec = CountVectorizer(tokenizer=twitter_tag.nouns, #우선은 명사만 사용\n",
    "                      decode_error ='ignore', \n",
    "                      max_df=0.5, #너무 자주 나타나는 단어는 제외, 책에서는 0.15를 사용\n",
    "                      #min_df = 3, #3개 미만의 문서에서 나타난 단어는 제외, 여기서는 max_features를 1000으로 제한하므로 별 필요 없음\n",
    "                      max_features = 1000) #적당한 대상 단어 수를 선택\n",
    "review_cv = vec.fit_transform(text)\n",
    "\n",
    "review_cv.shape"
   ]
  },
  {
   "cell_type": "markdown",
   "metadata": {},
   "source": [
    "sklearn의 LatentDirichletAllocation을 이용하여 topic modeling 수행\n",
    "\n",
    "다양한 argument를 적절히 이용하는 것이 중요\n"
   ]
  },
  {
   "cell_type": "code",
   "execution_count": 5,
   "metadata": {},
   "outputs": [
    {
     "name": "stdout",
     "output_type": "stream",
     "text": [
      "topic-word distribution dimension: (10, 1000)\n",
      "document-topic distribution dimenstion (14967, 10)\n"
     ]
    }
   ],
   "source": [
    "from sklearn.decomposition import LatentDirichletAllocation\n",
    "\n",
    "lda = LatentDirichletAllocation(n_components = 10, #추출할 topic의 수를 지정\n",
    "                                max_iter=25, #max_iter는 최종 모형에서는 5,000~10,000번 시도한다고 알려져 있음\n",
    "                                topic_word_prior= 0.1, doc_topic_prior=1.0,\n",
    "                                #topic_word_prior: beta, doc_topic_prior: alpha\n",
    "                                #일반적으로 beta는 0.1로 고정하고 alpha를 50/topic의 수 근처의 값을 시도\n",
    "                                #alpha와 beta는 낮은 값을 사용할수록 특정 토픽들이 두드러지도록 하는 효과가 있다고 합\n",
    "                                learning_method='batch', #'batch'는 'online'에 비해 더 성능이 좋고 느림, 현재는 default\n",
    "                                n_jobs= -1, #사용 processor 수, None이면 1, -1이면 모두 사용\n",
    "                                random_state=0)\n",
    "\n",
    "review_topics = lda.fit_transform(review_cv) #선형판별분석\n",
    "\n",
    "\n",
    "print('topic-word distribution dimension:', lda.components_.shape)\n",
    "print('document-topic distribution dimenstion', review_topics.shape)"
   ]
  },
  {
   "cell_type": "markdown",
   "metadata": {},
   "source": [
    "topic을 보기 쉽게 출력하는 함수를 작성"
   ]
  },
  {
   "cell_type": "code",
   "execution_count": 6,
   "metadata": {},
   "outputs": [],
   "source": [
    "def print_top_words(model, feature_names, n_top_words):\n",
    "    for topic_idx, topic in enumerate(model.components_):\n",
    "        print(\"Topic #%d: \" % topic_idx, end='')\n",
    "        print(\", \".join([feature_names[i] for i in topic.argsort()[:-n_top_words - 1:-1]]))\n",
    "        #print(\", \".join([feature_names[i]+'('+str(topic[i])+')' for i in topic.argsort()[:-n_top_words - 1:-1]]))\n",
    "        # 위 slicing에서 맨 뒤 -1은 역순을 의미, 역순으로 했을 때 처음부터 n_top_words까지\n",
    "    print()"
   ]
  },
  {
   "cell_type": "code",
   "execution_count": 7,
   "metadata": {},
   "outputs": [
    {
     "name": "stdout",
     "output_type": "stream",
     "text": [
      "Topic #0: 정말, 생각, 기대, 원작, 내, 안, 인생, 작품, 난, 굿\n",
      "Topic #1: 더, 그, 광주, 말, 다시, 가슴, 우리, 한번, 송강호, 택시\n",
      "Topic #2: 것, 좀, 장면, 때, 나, 음악, 사랑, 이야기, 번, 현실\n",
      "Topic #3: 스토리, 시간, 돈, 정도, 신파, 감독, 거, 한국, 듯, 수준\n",
      "Topic #4: 그냥, 편, 마블, 뭐, 이해, 공포, 역시, 노스, 느낌, 다음\n",
      "Topic #5: 마동석, 최고, 볼, 함, 액션, 공포영화, 임, 완전, 걸, 중\n",
      "Topic #6: 사람, 점, 수, 꼭, 부분, 이, 분, 웹툰, 조금, 인간\n",
      "Topic #7: 감동, 눈물, 재미, 마지막, 보고, 내용, 가족, 처음, 끝, 추천\n",
      "Topic #8: 연기, 배우, 진짜, 왜, 윤계상, 차태현, 연출, 또, 대박, 모두\n",
      "Topic #9: 영화, 이, 평점, 만, 관객, 신, 천만, 비, 알바, 제\n",
      "\n"
     ]
    }
   ],
   "source": [
    "print_top_words(lda,vec.get_feature_names(), 10)"
   ]
  },
  {
   "cell_type": "markdown",
   "metadata": {},
   "source": [
    "한 자로 구성된 명사들은 의미파악이 어려우므로 삭제할 필요가 있음\n",
    "\n",
    "두 자 이상만 반환하는 함수를 작성\n"
   ]
  },
  {
   "cell_type": "code",
   "execution_count": 8,
   "metadata": {},
   "outputs": [
    {
     "data": {
      "text/plain": [
       "['충격', '결말']"
      ]
     },
     "execution_count": 8,
     "metadata": {},
     "output_type": "execute_result"
    }
   ],
   "source": [
    "twitter_tag.nouns(text[1])"
   ]
  },
  {
   "cell_type": "code",
   "execution_count": 9,
   "metadata": {},
   "outputs": [],
   "source": [
    "def tokenizer(str):\n",
    "    return [token for token in twitter_tag.nouns(str) if len(token) > 1]"
   ]
  },
  {
   "cell_type": "code",
   "execution_count": 10,
   "metadata": {},
   "outputs": [
    {
     "data": {
      "text/plain": [
       "['충격', '결말']"
      ]
     },
     "execution_count": 10,
     "metadata": {},
     "output_type": "execute_result"
    }
   ],
   "source": [
    "tokenizer(text[1])"
   ]
  },
  {
   "cell_type": "markdown",
   "metadata": {},
   "source": [
    "'적'과 같이 한 자로 된 단어를 제거하고 count vector 생성"
   ]
  },
  {
   "cell_type": "code",
   "execution_count": 11,
   "metadata": {},
   "outputs": [],
   "source": [
    "#count vector 새로 생성\n",
    "vec = CountVectorizer(tokenizer=tokenizer, decode_error ='ignore', \n",
    "                      max_df=0.5, max_features = 1000) #너무 자주 나타나는 단어는 제외\n",
    "review_cv = vec.fit_transform(text)"
   ]
  },
  {
   "cell_type": "code",
   "execution_count": 12,
   "metadata": {},
   "outputs": [
    {
     "name": "stdout",
     "output_type": "stream",
     "text": [
      "Topic #0: 지금, 나름, 영화, 모든, 시간, 조폭, 아픔, 재판, 고생, 스토리\n",
      "Topic #1: 가족, 조연, 주연, 영화, 공감, 디즈니, 점수, 픽사, 감동, 스트레스\n",
      "Topic #2: 영화, 어른, 얼마나, 충격, 더욱, 여기, 폭력, 사람, 설명, 감동\n",
      "Topic #3: 진짜, 소리, 인간, 엄마, 동생, 줄거리, 아무, 상상력, 장첸, 기담\n",
      "Topic #4: 한번, 영화, 사실, 표현, 개봉, 절대, 곤지암, 외국, 해도, 묘사\n",
      "Topic #5: 신파, 몰입, 명작, 기술, 박수, 얼굴, 아주, 영화, 표정, 내년\n",
      "Topic #6: 생각, 대박, 수준, 극장, 영화, 스토리, 가지, 유머, 걱정, 사람\n",
      "Topic #7: 기억, 억지, 반전, 얘기, 감동, 개연, 형사, 장면, 영화, 슬픔\n",
      "Topic #8: 한국, 차태현, 위해, 제대로, 발전, 모습, 신파극, 영화, 인정, 효과\n",
      "Topic #9: 추천, 다음, 강추, 범죄, 도시, 꿀잼, 영화, 전반, 오역, 만큼\n",
      "Topic #10: 부분, 지옥, 영화, 대해, 장면, 자극, 감동, 사람, 스릴, 마지막\n",
      "Topic #11: 평점, 영화, 아쉬움, 이유, 혼자, 스크린, 흐름, 추격, 수가, 깡패\n",
      "Topic #12: 원작, 대한, 전혀, 아들, 대사, 오히려, 내용, 배경, 문제, 수작\n",
      "Topic #13: 한국영, 정말, 영화, 영화로, 제발, 마무리, 그냥, 상상, 이영화, 사건\n",
      "Topic #14: 광주, 역사, 시민, 가슴, 전두환, 기자, 민주주의, 그날, 사복, 독일\n",
      "Topic #15: 정말, 모두, 관객, 감독, 영화, 시대, 희생, 나라, 반복, 고민\n",
      "Topic #16: 사랑, 영화, 이제, 가장, 집중, 감성, 갈수록, 겨울왕국, 최근, 소름\n",
      "Topic #17: 웹툰, 조금, 영화, 설정, 생각, 상황, 누구, 현실, 스토리, 그대로\n",
      "Topic #18: 영화, 이상, 보지, 이후, 오락, 감사, 선택, 헐리웃, 장난, 불가\n",
      "Topic #19: 송강호, 택시, 천만, 운전사, 배우, 전체, 코믹, 매우, 연기, 영화\n",
      "Topic #20: 영화, 웃음, 몰입도, 시간, 노잼, 거의, 스포, 인물, 나이, 사람\n",
      "Topic #21: 중간, 인생, 영화, 음악, 현실, 매력, 인상, 그닥, 라이언, 감동\n",
      "Topic #22: 공포영화, 영화, 조선족, 공포, 이영화, 다큐, 무서움, 이하, 무조건, 짜증\n",
      "Topic #23: 내내, 알바, 오늘, 영화, 중국, 여자, 화보, 화가, 보고, 취향\n",
      "Topic #24: 영화, 다른, 그냥, 전개, 보고, 기도, 일단, 영웅, 사람, 생각\n",
      "Topic #25: 영화, 국민, 진실, 민주화, 쓰레기, 운동, 후회, 안보, 반성, 가슴\n",
      "Topic #26: 우리, 보기, 영화, 의미, 아주, 시간, 초딩, 생각, 사람, 건가\n",
      "Topic #27: 영화, 감동, 후반, 간만, 다만, 예상, 스토리, 정말, 미국, 정도\n",
      "Topic #28: 최고, 이야기, 영화, 만화, 편이, 드라마, 교훈, 제목, 어찌, 남편\n",
      "Topic #29: 영화, 우리나라, 소재, 실망, 무슨, 올해, 비교, 수도, 내용, 불구\n",
      "Topic #30: 연기, 배우, 영화, 연출, 감정, 기분, 제일, 부족, 항상, 재미나\n",
      "Topic #31: 재미, 영화, 시리즈, 대한민국, 이번, 번역, 보고, 호불호, 유치, 신분\n",
      "Topic #32: 기대, 결말, 역시, 계속, 영화, 최고, 과거, 타임, 웃기, 변신\n",
      "Topic #33: 영화, 이건, 뮤지컬, 역대, 무엇, 실감, 역할, 도대체, 재즈, 방금\n",
      "Topic #34: 다시, 영화관, 연기, 실제, 배우, 친구, 영화인, 영화, 나중, 만점\n",
      "Topic #35: 감동, 영화, 눈물, 최고, 긴장감, 마음, 내용, 요즘, 애니, 분노\n",
      "Topic #36: 영화, 영상, 여운, 노래, 자체, 음악, 엔딩, 평가, 라라, 랜드\n",
      "Topic #37: 마블, 주인공, 히어로, 실화, 토르, 순간, 스톤, 인피니티, 악당, 엠마\n",
      "Topic #38: 별로, 영화, 뭔가, 초반, 배우, 구성, 연기자, 분위기, 이름, 항쟁\n",
      "Topic #39: 정도, 지루함, 흥행, 중반, 세상, 영화, 감독, 거리, 시절, 어디\n",
      "Topic #40: 노스, 때문, 라면, 펑펑, 세계, 정신, 영화, 요소, 코드, 그것\n",
      "Topic #41: 느낌, 귀신, 개인, 판타지, 그래픽, 영화, 시작, 장르, 공포, 울음\n",
      "Topic #42: 영화, 최악, 정말, 상영, 당시, 사람, 원래, 그때, 잘만, 생각\n",
      "Topic #43: 마동석, 윤계상, 연기, 액션, 악역, 마블리, 캐스팅, 보시, 리얼, 촬영\n",
      "Topic #44: 이해, 처음, 마지막, 정도, 댓글, 영화, 화면, 언제, 존재, 동안\n",
      "Topic #45: 캐릭터, 진심, 영화, 감동, 남자, 코코, 다소, 경찰, 살짝, 노력\n",
      "Topic #46: 아이, 연기력, 관람, 영화, 강철, 그냥, 누가, 스토리, 잔치, 평론가\n",
      "Topic #47: 하나, 하정우, 김동욱, 어머니, 주지훈, 저승, 부모님, 자신, 이정재, 최고다\n",
      "Topic #48: 눈물, 어벤져스, 예고편, 마음, 볼거리, 완성, 영화, 머리, 편도, 그냥\n",
      "Topic #49: 완전, 작품, 영화, 차라리, 출연, 시나리오, 킬링타임, 공포, 카메라, 시점\n",
      "\n"
     ]
    }
   ],
   "source": [
    "#topic modeling 수행\n",
    "lda = LatentDirichletAllocation(n_components = 50, max_iter=25, \n",
    "                                topic_word_prior= 0.1, doc_topic_prior=1.0,\n",
    "                                learning_method='batch',\n",
    "                                n_jobs= -1,\n",
    "                                random_state=0)\n",
    "review_topics = lda.fit_transform(review_cv)\n",
    "print_top_words(lda,vec.get_feature_names(), 10)"
   ]
  },
  {
   "cell_type": "markdown",
   "metadata": {},
   "source": [
    "50개의 topic들을 대상으로 clustering을 수행해서 topic들이 잘 묶을 수 있는지 확인"
   ]
  },
  {
   "cell_type": "code",
   "execution_count": 13,
   "metadata": {},
   "outputs": [
    {
     "name": "stdout",
     "output_type": "stream",
     "text": [
      "topic-word distribution dimension: (50, 1000)\n",
      "Cluster label: [0 0 1 2 4 0 4 0 0 0 0 4 0 4 0 4 4 0 4 0 1 4 4 4 4 4 4 4 4 1 4 4 0 4 0 0 4\n",
      " 0 4 4 0 4 4 3 0 0 4 0 0 0]\n"
     ]
    }
   ],
   "source": [
    "from sklearn.cluster import KMeans #K-평균 클러스터링 실행\n",
    "\n",
    "kmeans = KMeans(n_clusters=5) #5개 클러스터로 분류\n",
    "kmeans.fit(lda.components_)\n",
    "\n",
    "print('topic-word distribution dimension:', lda.components_.shape)\n",
    "print('Cluster label:', kmeans.labels_)"
   ]
  },
  {
   "cell_type": "markdown",
   "metadata": {},
   "source": [
    "T-SNE를 이용하여 각 topic들 간의 관계를 시각화"
   ]
  },
  {
   "cell_type": "code",
   "execution_count": 14,
   "metadata": {},
   "outputs": [
    {
     "name": "stdout",
     "output_type": "stream",
     "text": [
      "TSNE dimension: (50, 2)\n"
     ]
    },
    {
     "data": {
      "text/plain": [
       "array([ -34.55453  ,   46.497868 ,   -4.6237693,  177.67603  ,\n",
       "        -48.265247 ,  126.23603  ,  -13.025991 ,   20.953259 ,\n",
       "       -138.03758  , -146.58078  ,   47.69199  ,  -15.115326 ,\n",
       "        -13.153372 ,   -4.0165806,   48.95325  ,  -79.31662  ,\n",
       "         56.220985 ,   11.073889 ,   24.118574 ,   71.75029  ,\n",
       "          4.0911007,  102.31929  ,   93.324005 ,   23.739773 ,\n",
       "        -21.923843 ,   49.532166 ,  -97.66554  ,  -34.931602 ,\n",
       "        -53.622185 ,  -36.634335 ,  157.90054  ,   49.33643  ,\n",
       "        -80.694824 ,   25.081493 , -111.023834 ,  -63.347317 ,\n",
       "        -42.427544 ,  146.04147  ,   58.331543 ,   53.504303 ,\n",
       "        102.33814  ,  127.092384 ,   -3.79862  , -127.16853  ,\n",
       "         88.796524 ,   -5.02389  ,   80.12665  , -125.898346 ,\n",
       "        -77.83137  ,  -85.65493  ], dtype=float32)"
      ]
     },
     "execution_count": 14,
     "metadata": {},
     "output_type": "execute_result"
    }
   ],
   "source": [
    "from sklearn.manifold import TSNE\n",
    "tsne = TSNE(n_components=2, random_state=42)\n",
    "tsne_review = tsne.fit_transform(lda.components_)\n",
    "print('TSNE dimension:', tsne_review.shape)\n",
    "tsne_review[:,0]"
   ]
  },
  {
   "cell_type": "code",
   "execution_count": 15,
   "metadata": {},
   "outputs": [],
   "source": [
    "%matplotlib inline\n",
    "import matplotlib.pyplot as plt\n",
    "from matplotlib import font_manager, rc\n",
    "font_name = font_manager.FontProperties(fname=\"c:/Windows/Fonts/malgun.ttf\").get_name()\n",
    "rc('font', family=font_name)\n",
    "import matplotlib as mpl\n",
    "\n",
    "# 그래프에서 마이너스 폰트 깨지는 문제에 대한 대처\n",
    "mpl.rcParams['axes.unicode_minus'] = False"
   ]
  },
  {
   "cell_type": "code",
   "execution_count": 16,
   "metadata": {},
   "outputs": [
    {
     "data": {
      "image/png": "[encoded data removed]",
      "text/plain": [
       "<Figure size 432x288 with 1 Axes>"
      ]
     },
     "metadata": {},
     "output_type": "display_data"
    },
    {
     "data": {
      "image/png": "[encoded data removed]",
      "text/plain": [
       "<Figure size 1080x720 with 1 Axes>"
      ]
     },
     "metadata": {},
     "output_type": "display_data"
    }
   ],
   "source": [
    "colors = {0:'blue', 1:'yellow', 2:'red', 3:'green', 4:'purple'}\n",
    "x1 = tsne_review[:,0]\n",
    "x2 = tsne_review[:,1]\n",
    "plt.scatter(x1, x2)\n",
    "\n",
    "plt.figure(figsize=(15,10))\n",
    "plt.xlim(min(x1), max(x1))\n",
    "plt.ylim(min(x2), max(x2))\n",
    "for i in range(len(x1)):\n",
    "#    plt.text(X1_lsi[i], X2_lsi[i], sample_label[i],\n",
    "#            color = colors[sample_label[i]])\n",
    "    plt.text(x1[i], x2[i], kmeans.labels_[i],\n",
    "            color = colors[kmeans.labels_[i]])\n",
    "\n",
    "#for word, pos in df.iterrows():\n",
    "#    ax.annotate(word, pos, fontsize=30)\n",
    "plt.show()\n",
    "\n",
    "#아래 결과를 보면 각 topic들이 고르게 분포하고 있어, 클러스터링이 별로 의미 없음을 알 수 있음"
   ]
  },
  {
   "cell_type": "markdown",
   "metadata": {},
   "source": [
    "# 최적의 결과를 찾기 위한 방법\n",
    "\n",
    "적절한 topic의 수는 perplexity 값을 이용해 찾음.\n",
    "낮을 수록 좋은 모형이나, 사람의 판단과 일치하지 않을 수 있음\n",
    "http://qpleple.com/perplexity-to-evaluate-topic-models/ \n",
    "그 외에 alpha, beta는 앞서 설명한 바와 같이 beta=0.1로 고정하고 alpha를 50/토픽수 근처에서 찾아나감\n",
    " 반복횟수는 5,000번 정도면 수렴\n"
   ]
  },
  {
   "cell_type": "code",
   "execution_count": 17,
   "metadata": {},
   "outputs": [
    {
     "data": {
      "text/plain": [
       "580.3500674204244"
      ]
     },
     "execution_count": 17,
     "metadata": {},
     "output_type": "execute_result"
    }
   ],
   "source": [
    "lda.perplexity(review_cv) #perplexity를 구해 최적 토픽 수 구함"
   ]
  },
  {
   "cell_type": "code",
   "execution_count": 18,
   "metadata": {},
   "outputs": [
    {
     "name": "stdout",
     "output_type": "stream",
     "text": [
      "Topic #0: 영화, 스토리, 연기, 저승, 감동, 악역, 조폭, 상영, 윤계상, 지금\n",
      "Topic #1: 영화, 가족, 감동, 노래, 디즈니, 점수, 주연, 자신, 조연, 픽사\n",
      "Topic #2: 영화, 감동, 동안, 진짜, 더욱, 최고, 음악, 마음, 폭력, 장르\n",
      "Topic #3: 인간, 엄마, 진짜, 하정우, 사람, 어머니, 모습, 영화, 하나, 순간\n",
      "Topic #4: 광주, 영화, 국민, 전두환, 우리, 절대, 민주화, 당시, 해도, 외국\n",
      "Topic #5: 영화, 신파, 중간, 연기, 명작, 코코, 정말, 기술, 언제, 몰입\n",
      "Topic #6: 영화, 생각, 극장, 스토리, 재미, 가지, 감동, 걱정, 출연, 대박\n",
      "Topic #7: 영화, 연출, 대한민국, 흥행, 반전, 얘기, 형사, 역사, 슬픔, 죽음\n",
      "Topic #8: 영화, 차태현, 한국, 세계, 제대로, 신파극, 위해, 인정, 발전, 효과\n",
      "Topic #9: 다음, 영화, 범죄, 편이, 추천, 마블, 도시, 꿀잼, 마동석, 번역\n",
      "Topic #10: 영화, 감동, 만화, 부분, 대해, 자극, 볼거리, 정말, 생각, 스릴\n",
      "Topic #11: 영화, 연기, 아쉬움, 마동석, 윤계상, 긴장감, 완성, 스크린, 평점, 기대\n",
      "Topic #12: 원작, 영화, 스토리, 지옥, 웹툰, 오히려, 아들, 개연, 대사, 전혀\n",
      "Topic #13: 영화, 어벤져스, 마블, 시리즈, 정말, 토르, 기대, 윤계상, 재미, 캐릭터\n",
      "Topic #14: 영화, 눈물, 시민, 진실, 중반, 민주주의, 역사, 연기력, 실화, 등장\n",
      "Topic #15: 영화, 관객, 정말, 시대, 모두, 감동, 희생, 남자, 나라, 배우\n",
      "Topic #16: 영화, 영상, 이제, 집중, 감성, 감독, 배우, 정말, 눈물, 겨울왕국\n",
      "Topic #17: 영화, 설정, 상황, 기분, 친구, 생각, 사실, 그때, 부모님, 조금\n",
      "Topic #18: 영화, 이후, 이상, 보지, 관람, 평점, 역대, 감사, 알바, 진짜\n",
      "Topic #19: 송강호, 영화, 배우, 택시, 연기, 운전사, 전체, 코믹, 매우, 감동\n",
      "Topic #20: 영화, 공포, 소리, 곤지암, 마동석, 윤계상, 웃음, 노잼, 연기, 거의\n",
      "Topic #21: 영화, 사랑, 음악, 뮤지컬, 중간, 여운, 주인공, 엔딩, 감동, 인생\n",
      "Topic #22: 영화, 공포영화, 조선족, 귀신, 진짜, 다큐, 무서움, 이하, 공포, 마블리\n",
      "Topic #23: 영화, 별로, 오늘, 후반, 연기, 보고, 여자, 평점, 화가, 그것\n",
      "Topic #24: 영화, 노스, 그냥, 마블, 사람, 영웅, 기도, 요즘, 다른, 히어로\n",
      "\n"
     ]
    },
    {
     "data": {
      "text/plain": [
       "561.3642266652984"
      ]
     },
     "execution_count": 18,
     "metadata": {},
     "output_type": "execute_result"
    }
   ],
   "source": [
    "#topic modeling 수행\n",
    "lda = LatentDirichletAllocation(n_components = 25, max_iter=25, \n",
    "                                topic_word_prior= 0.1, doc_topic_prior=2.0,\n",
    "                                learning_method='batch',\n",
    "                                n_jobs= -1,\n",
    "                                random_state=0)\n",
    "review_topics = lda.fit_transform(review_cv)\n",
    "print_top_words(lda,vec.get_feature_names(), 10)\n",
    "lda.perplexity(review_cv)"
   ]
  },
  {
   "cell_type": "code",
   "execution_count": 19,
   "metadata": {},
   "outputs": [
    {
     "name": "stdout",
     "output_type": "stream",
     "text": [
      "Topic #0: 감동, 보고, 스토리, 작품, 노스, 주인공, 모든, 어벤져스, 이제, 가장\n",
      "Topic #1: 연기, 배우, 최고, 가족, 모두, 보기, 소재, 연기력, 조연, 이상\n",
      "Topic #2: 영화, 음악, 부분, 인생, 최악, 여운, 영상, 뮤지컬, 보지, 무엇\n",
      "Topic #3: 사람, 진짜, 하나, 차태현, 대박, 하정우, 소리, 인간, 지옥, 엄마\n",
      "Topic #4: 광주, 역사, 다시, 가슴, 우리, 송강호, 한번, 택시, 지금, 사실\n",
      "Topic #5: 정말, 눈물, 시간, 기대, 중간, 처음, 별로, 몰입, 실망, 관람\n",
      "Topic #6: 생각, 재미, 스토리, 내용, 원작, 정도, 신파, 이해, 웹툰, 조금\n",
      "Topic #7: 마지막, 장면, 감독, 사랑, 역시, 연출, 기억, 아이, 이야기, 대한\n",
      "Topic #8: 그냥, 평점, 한국, 공포영화, 수준, 관객, 공포, 느낌, 천만, 한국영\n",
      "Topic #9: 마동석, 윤계상, 마블, 액션, 완전, 추천, 다음, 결말, 때문, 아주\n",
      "\n"
     ]
    },
    {
     "data": {
      "text/plain": [
       "414.96166407293487"
      ]
     },
     "execution_count": 19,
     "metadata": {},
     "output_type": "execute_result"
    }
   ],
   "source": [
    "#topic modeling 수행\n",
    "lda = LatentDirichletAllocation(n_components = 10, max_iter=25, \n",
    "                                topic_word_prior= 0.1, doc_topic_prior=1.0,\n",
    "                                learning_method='batch',\n",
    "                                n_jobs= -1,\n",
    "                                random_state=0)\n",
    "review_topics = lda.fit_transform(review_cv)\n",
    "print_top_words(lda,vec.get_feature_names(), 10)\n",
    "lda.perplexity(review_cv)"
   ]
  },
  {
   "cell_type": "markdown",
   "metadata": {},
   "source": [
    "# 2. 토픽 트렌드 무비"
   ]
  },
  {
   "cell_type": "code",
   "execution_count": 20,
   "metadata": {},
   "outputs": [],
   "source": [
    "import matplotlib\n",
    "%matplotlib inline\n",
    "import pandas as pd"
   ]
  },
  {
   "cell_type": "code",
   "execution_count": 21,
   "metadata": {},
   "outputs": [],
   "source": [
    "data = pd.read_csv(\"movie_data_include_date.csv\", header=None, names=['review', 'rate', 'date', 'title']) #read data"
   ]
  },
  {
   "cell_type": "code",
   "execution_count": 22,
   "metadata": {},
   "outputs": [
    {
     "name": "stdout",
     "output_type": "stream",
     "text": [
      "0 review\n",
      "1 rate\n",
      "2 date\n",
      "3 title\n"
     ]
    }
   ],
   "source": [
    "for ix, name in enumerate(data.columns):\n",
    "    print(ix,name)"
   ]
  },
  {
   "cell_type": "code",
   "execution_count": 23,
   "metadata": {},
   "outputs": [
    {
     "data": {
      "text/html": [
       "<div>\n",
       "<style scoped>\n",
       "    .dataframe tbody tr th:only-of-type {\n",
       "        vertical-align: middle;\n",
       "    }\n",
       "\n",
       "    .dataframe tbody tr th {\n",
       "        vertical-align: top;\n",
       "    }\n",
       "\n",
       "    .dataframe thead th {\n",
       "        text-align: right;\n",
       "    }\n",
       "</style>\n",
       "<table border=\"1\" class=\"dataframe\">\n",
       "  <thead>\n",
       "    <tr style=\"text-align: right;\">\n",
       "      <th></th>\n",
       "      <th>review</th>\n",
       "      <th>rate</th>\n",
       "      <th>date</th>\n",
       "      <th>title</th>\n",
       "    </tr>\n",
       "  </thead>\n",
       "  <tbody>\n",
       "    <tr>\n",
       "      <th>0</th>\n",
       "      <td>돈 들인건 티가 나지만 보는 내내 하품만</td>\n",
       "      <td>1</td>\n",
       "      <td>2018.10.29</td>\n",
       "      <td>인피니티 워</td>\n",
       "    </tr>\n",
       "    <tr>\n",
       "      <th>1</th>\n",
       "      <td>몰입할수밖에 없다. 어렵게 생각할 필요없다. 내가 전투에 참여한듯 손에 땀이남.</td>\n",
       "      <td>10</td>\n",
       "      <td>2018.10.26</td>\n",
       "      <td>인피니티 워</td>\n",
       "    </tr>\n",
       "    <tr>\n",
       "      <th>2</th>\n",
       "      <td>이전 작품에 비해 더 화려하고 스케일도 커졌지만.... 전국 맛집의 음식들을 한데 ...</td>\n",
       "      <td>8</td>\n",
       "      <td>2018.10.24</td>\n",
       "      <td>인피니티 워</td>\n",
       "    </tr>\n",
       "    <tr>\n",
       "      <th>3</th>\n",
       "      <td>이 정도면 볼만하다고 할 수 있음!</td>\n",
       "      <td>8</td>\n",
       "      <td>2018.10.22</td>\n",
       "      <td>인피니티 워</td>\n",
       "    </tr>\n",
       "    <tr>\n",
       "      <th>4</th>\n",
       "      <td>재미있다</td>\n",
       "      <td>10</td>\n",
       "      <td>2018.10.20</td>\n",
       "      <td>인피니티 워</td>\n",
       "    </tr>\n",
       "  </tbody>\n",
       "</table>\n",
       "</div>"
      ],
      "text/plain": [
       "                                              review  rate        date   title\n",
       "0                             돈 들인건 티가 나지만 보는 내내 하품만     1  2018.10.29  인피니티 워\n",
       "1       몰입할수밖에 없다. 어렵게 생각할 필요없다. 내가 전투에 참여한듯 손에 땀이남.    10  2018.10.26  인피니티 워\n",
       "2  이전 작품에 비해 더 화려하고 스케일도 커졌지만.... 전국 맛집의 음식들을 한데 ...     8  2018.10.24  인피니티 워\n",
       "3                                이 정도면 볼만하다고 할 수 있음!     8  2018.10.22  인피니티 워\n",
       "4                                               재미있다    10  2018.10.20  인피니티 워"
      ]
     },
     "execution_count": 23,
     "metadata": {},
     "output_type": "execute_result"
    }
   ],
   "source": [
    "data.head()"
   ]
  },
  {
   "cell_type": "code",
   "execution_count": 24,
   "metadata": {},
   "outputs": [
    {
     "data": {
      "text/plain": [
       "pandas.core.series.Series"
      ]
     },
     "execution_count": 24,
     "metadata": {},
     "output_type": "execute_result"
    }
   ],
   "source": [
    "data.review.shape\n",
    "type(data.review)"
   ]
  },
  {
   "cell_type": "code",
   "execution_count": 25,
   "metadata": {},
   "outputs": [],
   "source": [
    "from konlpy.tag import Okt #konlpy에서 Twitter 형태소 분석기를 import\n",
    "twitter_tag = Okt()\n",
    "\n",
    "def tokenizer(str):\n",
    "    return [token for token in twitter_tag.nouns(str) if len(token) > 1]"
   ]
  },
  {
   "cell_type": "code",
   "execution_count": 26,
   "metadata": {},
   "outputs": [],
   "source": [
    "from sklearn.feature_extraction.text import CountVectorizer\n",
    "\n",
    "vec = CountVectorizer(tokenizer=tokenizer, #우선은 명사만 사용\n",
    "                      decode_error ='ignore', \n",
    "                      max_df=0.5, #너무 자주 나타나는 단어는 제외, 책에서는 0.15를 사용\n",
    "                      #min_df = 3, #3개 미만의 문서에서 나타난 단어는 제외, 여기서는 max_features를 1000으로 제한하므로 별 필요 없음\n",
    "                      max_features = 1000) #적당한 대상 단어 수를 선택\n",
    "review_cv = vec.fit_transform(data.review)"
   ]
  },
  {
   "cell_type": "code",
   "execution_count": 27,
   "metadata": {},
   "outputs": [
    {
     "data": {
      "text/plain": [
       "(14725, 1000)"
      ]
     },
     "execution_count": 27,
     "metadata": {},
     "output_type": "execute_result"
    }
   ],
   "source": [
    "review_cv.shape"
   ]
  },
  {
   "cell_type": "code",
   "execution_count": 28,
   "metadata": {},
   "outputs": [],
   "source": [
    "from sklearn.decomposition import LatentDirichletAllocation\n",
    "\n",
    "lda = LatentDirichletAllocation(n_components = 10, #추출할 topic의 수를 지정\n",
    "                                max_iter=25, #max_iter는 최종 모형에서는 5,000~10,000번 시도한다고 알려져 있음\n",
    "                                topic_word_prior= 0.1, doc_topic_prior=1.0,\n",
    "                                #topic_word_prior: beta, doc_topic_prior: alpha\n",
    "                                #일반적으로 beta는 0.1로 고정하고 alpha를 50/topic의 수 근처의 값을 시도\n",
    "                                #alpha와 beta는 낮은 값을 사용할수록 특정 토픽들이 두드러지도록 하는 효과가 있다고 합\n",
    "                                learning_method='batch', #'batch'는 'online'에 비해 더 성능이 좋고 느림, 현재는 default\n",
    "                                n_jobs= -1, #사용 processor 수, None이면 1, -1이면 모두 사용\n",
    "                                random_state=0)\n",
    "\n",
    "review_topics = lda.fit_transform(review_cv)"
   ]
  },
  {
   "cell_type": "code",
   "execution_count": 29,
   "metadata": {},
   "outputs": [
    {
     "name": "stdout",
     "output_type": "stream",
     "text": [
      "(14725, 10)\n"
     ]
    },
    {
     "data": {
      "text/plain": [
       "numpy.ndarray"
      ]
     },
     "execution_count": 29,
     "metadata": {},
     "output_type": "execute_result"
    }
   ],
   "source": [
    "print(review_topics.shape)\n",
    "type(review_topics)"
   ]
  },
  {
   "cell_type": "code",
   "execution_count": 30,
   "metadata": {},
   "outputs": [],
   "source": [
    "def print_top_words(model, feature_names, n_top_words):\n",
    "    for topic_idx, topic in enumerate(model.components_):\n",
    "        print(\"Topic #%d: \" % topic_idx, end='')\n",
    "        print(\", \".join([feature_names[i] for i in topic.argsort()[:-n_top_words - 1:-1]]))\n",
    "        #print(\", \".join([feature_names[i]+'('+str(topic[i])+')' for i in topic.argsort()[:-n_top_words - 1:-1]]))\n",
    "        # 위 slicing에서 맨 뒤 -1은 역순을 의미, 역순으로 했을 때 처음부터 n_top_words까지\n",
    "    print()"
   ]
  },
  {
   "cell_type": "code",
   "execution_count": 31,
   "metadata": {},
   "outputs": [
    {
     "name": "stdout",
     "output_type": "stream",
     "text": [
      "Topic #0: 감동, 스토리, 기대, 내용, 원작, 신파, 별로, 웹툰, 억지, 나름\n",
      "Topic #1: 마블, 영화, 노스, 다음, 이해, 결말, 사람, 어벤져스, 다른, 이영화\n",
      "Topic #2: 마지막, 장면, 영화, 감독, 부분, 송강호, 하나, 모두, 작품, 때문\n",
      "Topic #3: 진짜, 사람, 광주, 역사, 가슴, 우리, 영화, 정도, 지금, 사실\n",
      "Topic #4: 영화, 보고, 그냥, 느낌, 처음, 차태현, 몰입, 관객, 천만, 최악\n",
      "Topic #5: 영화, 정말, 최고, 시간, 사랑, 이야기, 현실, 연기력, 내내, 노래\n",
      "Topic #6: 영화, 재미, 중간, 액션, 인생, 음악, 조금, 한국영, 이상, 이건\n",
      "Topic #7: 생각, 눈물, 영화, 평점, 가족, 마음, 기억, 공포, 개인, 소재\n",
      "Topic #8: 연기, 배우, 마동석, 윤계상, 한번, 영화, 대박, 조연, 간만, 제대로\n",
      "Topic #9: 영화, 공포영화, 완전, 추천, 수준, 보기, 아이, 소리, 아주, 초반\n",
      "\n"
     ]
    }
   ],
   "source": [
    "print_top_words(lda,vec.get_feature_names(), 10)"
   ]
  },
  {
   "cell_type": "code",
   "execution_count": 32,
   "metadata": {},
   "outputs": [],
   "source": [
    "trend_data = pd.DataFrame(review_topics, columns=['topic'+str(i) for i in range(1, 11)])"
   ]
  },
  {
   "cell_type": "code",
   "execution_count": 33,
   "metadata": {},
   "outputs": [
    {
     "data": {
      "text/html": [
       "<div>\n",
       "<style scoped>\n",
       "    .dataframe tbody tr th:only-of-type {\n",
       "        vertical-align: middle;\n",
       "    }\n",
       "\n",
       "    .dataframe tbody tr th {\n",
       "        vertical-align: top;\n",
       "    }\n",
       "\n",
       "    .dataframe thead th {\n",
       "        text-align: right;\n",
       "    }\n",
       "</style>\n",
       "<table border=\"1\" class=\"dataframe\">\n",
       "  <thead>\n",
       "    <tr style=\"text-align: right;\">\n",
       "      <th></th>\n",
       "      <th>topic1</th>\n",
       "      <th>topic2</th>\n",
       "      <th>topic3</th>\n",
       "      <th>topic4</th>\n",
       "      <th>topic5</th>\n",
       "      <th>topic6</th>\n",
       "      <th>topic7</th>\n",
       "      <th>topic8</th>\n",
       "      <th>topic9</th>\n",
       "      <th>topic10</th>\n",
       "    </tr>\n",
       "  </thead>\n",
       "  <tbody>\n",
       "    <tr>\n",
       "      <th>0</th>\n",
       "      <td>0.083333</td>\n",
       "      <td>0.083333</td>\n",
       "      <td>0.083333</td>\n",
       "      <td>0.085311</td>\n",
       "      <td>0.083333</td>\n",
       "      <td>0.164689</td>\n",
       "      <td>0.083333</td>\n",
       "      <td>0.083333</td>\n",
       "      <td>0.166666</td>\n",
       "      <td>0.083333</td>\n",
       "    </tr>\n",
       "    <tr>\n",
       "      <th>1</th>\n",
       "      <td>0.083723</td>\n",
       "      <td>0.083474</td>\n",
       "      <td>0.083334</td>\n",
       "      <td>0.083411</td>\n",
       "      <td>0.166802</td>\n",
       "      <td>0.083595</td>\n",
       "      <td>0.083333</td>\n",
       "      <td>0.165567</td>\n",
       "      <td>0.083340</td>\n",
       "      <td>0.083421</td>\n",
       "    </tr>\n",
       "    <tr>\n",
       "      <th>2</th>\n",
       "      <td>0.061584</td>\n",
       "      <td>0.173710</td>\n",
       "      <td>0.235294</td>\n",
       "      <td>0.058824</td>\n",
       "      <td>0.117647</td>\n",
       "      <td>0.058824</td>\n",
       "      <td>0.117646</td>\n",
       "      <td>0.058824</td>\n",
       "      <td>0.058824</td>\n",
       "      <td>0.058824</td>\n",
       "    </tr>\n",
       "    <tr>\n",
       "      <th>3</th>\n",
       "      <td>0.099239</td>\n",
       "      <td>0.092669</td>\n",
       "      <td>0.092461</td>\n",
       "      <td>0.131794</td>\n",
       "      <td>0.118299</td>\n",
       "      <td>0.090909</td>\n",
       "      <td>0.093102</td>\n",
       "      <td>0.092915</td>\n",
       "      <td>0.094937</td>\n",
       "      <td>0.093676</td>\n",
       "    </tr>\n",
       "    <tr>\n",
       "      <th>4</th>\n",
       "      <td>0.100000</td>\n",
       "      <td>0.100000</td>\n",
       "      <td>0.100000</td>\n",
       "      <td>0.100000</td>\n",
       "      <td>0.100000</td>\n",
       "      <td>0.100000</td>\n",
       "      <td>0.100000</td>\n",
       "      <td>0.100000</td>\n",
       "      <td>0.100000</td>\n",
       "      <td>0.100000</td>\n",
       "    </tr>\n",
       "  </tbody>\n",
       "</table>\n",
       "</div>"
      ],
      "text/plain": [
       "     topic1    topic2    topic3    topic4    topic5    topic6    topic7  \\\n",
       "0  0.083333  0.083333  0.083333  0.085311  0.083333  0.164689  0.083333   \n",
       "1  0.083723  0.083474  0.083334  0.083411  0.166802  0.083595  0.083333   \n",
       "2  0.061584  0.173710  0.235294  0.058824  0.117647  0.058824  0.117646   \n",
       "3  0.099239  0.092669  0.092461  0.131794  0.118299  0.090909  0.093102   \n",
       "4  0.100000  0.100000  0.100000  0.100000  0.100000  0.100000  0.100000   \n",
       "\n",
       "     topic8    topic9   topic10  \n",
       "0  0.083333  0.166666  0.083333  \n",
       "1  0.165567  0.083340  0.083421  \n",
       "2  0.058824  0.058824  0.058824  \n",
       "3  0.092915  0.094937  0.093676  \n",
       "4  0.100000  0.100000  0.100000  "
      ]
     },
     "execution_count": 33,
     "metadata": {},
     "output_type": "execute_result"
    }
   ],
   "source": [
    "trend_data.head()"
   ]
  },
  {
   "cell_type": "code",
   "execution_count": 34,
   "metadata": {},
   "outputs": [],
   "source": [
    "trend_data = pd.concat([trend_data, data.date], axis=1)"
   ]
  },
  {
   "cell_type": "code",
   "execution_count": 35,
   "metadata": {},
   "outputs": [
    {
     "data": {
      "text/plain": [
       "(14725, 11)"
      ]
     },
     "execution_count": 35,
     "metadata": {},
     "output_type": "execute_result"
    }
   ],
   "source": [
    "trend_data.shape"
   ]
  },
  {
   "cell_type": "code",
   "execution_count": 36,
   "metadata": {},
   "outputs": [
    {
     "data": {
      "text/html": [
       "<div>\n",
       "<style scoped>\n",
       "    .dataframe tbody tr th:only-of-type {\n",
       "        vertical-align: middle;\n",
       "    }\n",
       "\n",
       "    .dataframe tbody tr th {\n",
       "        vertical-align: top;\n",
       "    }\n",
       "\n",
       "    .dataframe thead th {\n",
       "        text-align: right;\n",
       "    }\n",
       "</style>\n",
       "<table border=\"1\" class=\"dataframe\">\n",
       "  <thead>\n",
       "    <tr style=\"text-align: right;\">\n",
       "      <th></th>\n",
       "      <th>topic1</th>\n",
       "      <th>topic2</th>\n",
       "      <th>topic3</th>\n",
       "      <th>topic4</th>\n",
       "      <th>topic5</th>\n",
       "      <th>topic6</th>\n",
       "      <th>topic7</th>\n",
       "      <th>topic8</th>\n",
       "      <th>topic9</th>\n",
       "      <th>topic10</th>\n",
       "      <th>date</th>\n",
       "    </tr>\n",
       "  </thead>\n",
       "  <tbody>\n",
       "    <tr>\n",
       "      <th>0</th>\n",
       "      <td>0.083333</td>\n",
       "      <td>0.083333</td>\n",
       "      <td>0.083333</td>\n",
       "      <td>0.085311</td>\n",
       "      <td>0.083333</td>\n",
       "      <td>0.164689</td>\n",
       "      <td>0.083333</td>\n",
       "      <td>0.083333</td>\n",
       "      <td>0.166666</td>\n",
       "      <td>0.083333</td>\n",
       "      <td>2018.10.29</td>\n",
       "    </tr>\n",
       "    <tr>\n",
       "      <th>1</th>\n",
       "      <td>0.083723</td>\n",
       "      <td>0.083474</td>\n",
       "      <td>0.083334</td>\n",
       "      <td>0.083411</td>\n",
       "      <td>0.166802</td>\n",
       "      <td>0.083595</td>\n",
       "      <td>0.083333</td>\n",
       "      <td>0.165567</td>\n",
       "      <td>0.083340</td>\n",
       "      <td>0.083421</td>\n",
       "      <td>2018.10.26</td>\n",
       "    </tr>\n",
       "    <tr>\n",
       "      <th>2</th>\n",
       "      <td>0.061584</td>\n",
       "      <td>0.173710</td>\n",
       "      <td>0.235294</td>\n",
       "      <td>0.058824</td>\n",
       "      <td>0.117647</td>\n",
       "      <td>0.058824</td>\n",
       "      <td>0.117646</td>\n",
       "      <td>0.058824</td>\n",
       "      <td>0.058824</td>\n",
       "      <td>0.058824</td>\n",
       "      <td>2018.10.24</td>\n",
       "    </tr>\n",
       "    <tr>\n",
       "      <th>3</th>\n",
       "      <td>0.099239</td>\n",
       "      <td>0.092669</td>\n",
       "      <td>0.092461</td>\n",
       "      <td>0.131794</td>\n",
       "      <td>0.118299</td>\n",
       "      <td>0.090909</td>\n",
       "      <td>0.093102</td>\n",
       "      <td>0.092915</td>\n",
       "      <td>0.094937</td>\n",
       "      <td>0.093676</td>\n",
       "      <td>2018.10.22</td>\n",
       "    </tr>\n",
       "    <tr>\n",
       "      <th>4</th>\n",
       "      <td>0.100000</td>\n",
       "      <td>0.100000</td>\n",
       "      <td>0.100000</td>\n",
       "      <td>0.100000</td>\n",
       "      <td>0.100000</td>\n",
       "      <td>0.100000</td>\n",
       "      <td>0.100000</td>\n",
       "      <td>0.100000</td>\n",
       "      <td>0.100000</td>\n",
       "      <td>0.100000</td>\n",
       "      <td>2018.10.20</td>\n",
       "    </tr>\n",
       "  </tbody>\n",
       "</table>\n",
       "</div>"
      ],
      "text/plain": [
       "     topic1    topic2    topic3    topic4    topic5    topic6    topic7  \\\n",
       "0  0.083333  0.083333  0.083333  0.085311  0.083333  0.164689  0.083333   \n",
       "1  0.083723  0.083474  0.083334  0.083411  0.166802  0.083595  0.083333   \n",
       "2  0.061584  0.173710  0.235294  0.058824  0.117647  0.058824  0.117646   \n",
       "3  0.099239  0.092669  0.092461  0.131794  0.118299  0.090909  0.093102   \n",
       "4  0.100000  0.100000  0.100000  0.100000  0.100000  0.100000  0.100000   \n",
       "\n",
       "     topic8    topic9   topic10        date  \n",
       "0  0.083333  0.166666  0.083333  2018.10.29  \n",
       "1  0.165567  0.083340  0.083421  2018.10.26  \n",
       "2  0.058824  0.058824  0.058824  2018.10.24  \n",
       "3  0.092915  0.094937  0.093676  2018.10.22  \n",
       "4  0.100000  0.100000  0.100000  2018.10.20  "
      ]
     },
     "execution_count": 36,
     "metadata": {},
     "output_type": "execute_result"
    }
   ],
   "source": [
    "trend_data.head()"
   ]
  },
  {
   "cell_type": "code",
   "execution_count": 37,
   "metadata": {},
   "outputs": [],
   "source": [
    "trend = trend_data.groupby(['date']).mean()"
   ]
  },
  {
   "cell_type": "code",
   "execution_count": 38,
   "metadata": {},
   "outputs": [
    {
     "data": {
      "text/plain": [
       "(640, 10)"
      ]
     },
     "execution_count": 38,
     "metadata": {},
     "output_type": "execute_result"
    }
   ],
   "source": [
    "trend.shape"
   ]
  },
  {
   "cell_type": "code",
   "execution_count": 39,
   "metadata": {},
   "outputs": [
    {
     "data": {
      "text/html": [
       "<div>\n",
       "<style scoped>\n",
       "    .dataframe tbody tr th:only-of-type {\n",
       "        vertical-align: middle;\n",
       "    }\n",
       "\n",
       "    .dataframe tbody tr th {\n",
       "        vertical-align: top;\n",
       "    }\n",
       "\n",
       "    .dataframe thead th {\n",
       "        text-align: right;\n",
       "    }\n",
       "</style>\n",
       "<table border=\"1\" class=\"dataframe\">\n",
       "  <thead>\n",
       "    <tr style=\"text-align: right;\">\n",
       "      <th></th>\n",
       "      <th>topic1</th>\n",
       "      <th>topic2</th>\n",
       "      <th>topic3</th>\n",
       "      <th>topic4</th>\n",
       "      <th>topic5</th>\n",
       "      <th>topic6</th>\n",
       "      <th>topic7</th>\n",
       "      <th>topic8</th>\n",
       "      <th>topic9</th>\n",
       "      <th>topic10</th>\n",
       "    </tr>\n",
       "    <tr>\n",
       "      <th>date</th>\n",
       "      <th></th>\n",
       "      <th></th>\n",
       "      <th></th>\n",
       "      <th></th>\n",
       "      <th></th>\n",
       "      <th></th>\n",
       "      <th></th>\n",
       "      <th></th>\n",
       "      <th></th>\n",
       "      <th></th>\n",
       "    </tr>\n",
       "  </thead>\n",
       "  <tbody>\n",
       "    <tr>\n",
       "      <th>2016.04.27</th>\n",
       "      <td>0.058937</td>\n",
       "      <td>0.121592</td>\n",
       "      <td>0.183709</td>\n",
       "      <td>0.119867</td>\n",
       "      <td>0.133412</td>\n",
       "      <td>0.132233</td>\n",
       "      <td>0.069292</td>\n",
       "      <td>0.060609</td>\n",
       "      <td>0.059982</td>\n",
       "      <td>0.060365</td>\n",
       "    </tr>\n",
       "    <tr>\n",
       "      <th>2016.05.09</th>\n",
       "      <td>0.222664</td>\n",
       "      <td>0.094689</td>\n",
       "      <td>0.062157</td>\n",
       "      <td>0.073525</td>\n",
       "      <td>0.099670</td>\n",
       "      <td>0.090430</td>\n",
       "      <td>0.073010</td>\n",
       "      <td>0.109788</td>\n",
       "      <td>0.112156</td>\n",
       "      <td>0.061910</td>\n",
       "    </tr>\n",
       "    <tr>\n",
       "      <th>2016.05.20</th>\n",
       "      <td>0.312563</td>\n",
       "      <td>0.062557</td>\n",
       "      <td>0.062500</td>\n",
       "      <td>0.125000</td>\n",
       "      <td>0.070916</td>\n",
       "      <td>0.062500</td>\n",
       "      <td>0.062572</td>\n",
       "      <td>0.062500</td>\n",
       "      <td>0.116392</td>\n",
       "      <td>0.062500</td>\n",
       "    </tr>\n",
       "    <tr>\n",
       "      <th>2016.06.04</th>\n",
       "      <td>0.083333</td>\n",
       "      <td>0.083510</td>\n",
       "      <td>0.163403</td>\n",
       "      <td>0.083333</td>\n",
       "      <td>0.083333</td>\n",
       "      <td>0.083333</td>\n",
       "      <td>0.083333</td>\n",
       "      <td>0.083333</td>\n",
       "      <td>0.166667</td>\n",
       "      <td>0.086420</td>\n",
       "    </tr>\n",
       "    <tr>\n",
       "      <th>2016.07.09</th>\n",
       "      <td>0.100000</td>\n",
       "      <td>0.100000</td>\n",
       "      <td>0.100000</td>\n",
       "      <td>0.100000</td>\n",
       "      <td>0.100000</td>\n",
       "      <td>0.100000</td>\n",
       "      <td>0.100000</td>\n",
       "      <td>0.100000</td>\n",
       "      <td>0.100000</td>\n",
       "      <td>0.100000</td>\n",
       "    </tr>\n",
       "  </tbody>\n",
       "</table>\n",
       "</div>"
      ],
      "text/plain": [
       "              topic1    topic2    topic3    topic4    topic5    topic6  \\\n",
       "date                                                                     \n",
       "2016.04.27  0.058937  0.121592  0.183709  0.119867  0.133412  0.132233   \n",
       "2016.05.09  0.222664  0.094689  0.062157  0.073525  0.099670  0.090430   \n",
       "2016.05.20  0.312563  0.062557  0.062500  0.125000  0.070916  0.062500   \n",
       "2016.06.04  0.083333  0.083510  0.163403  0.083333  0.083333  0.083333   \n",
       "2016.07.09  0.100000  0.100000  0.100000  0.100000  0.100000  0.100000   \n",
       "\n",
       "              topic7    topic8    topic9   topic10  \n",
       "date                                                \n",
       "2016.04.27  0.069292  0.060609  0.059982  0.060365  \n",
       "2016.05.09  0.073010  0.109788  0.112156  0.061910  \n",
       "2016.05.20  0.062572  0.062500  0.116392  0.062500  \n",
       "2016.06.04  0.083333  0.083333  0.166667  0.086420  \n",
       "2016.07.09  0.100000  0.100000  0.100000  0.100000  "
      ]
     },
     "execution_count": 39,
     "metadata": {},
     "output_type": "execute_result"
    }
   ],
   "source": [
    "trend.head()"
   ]
  },
  {
   "cell_type": "code",
   "execution_count": 40,
   "metadata": {},
   "outputs": [
    {
     "data": {
      "text/plain": [
       "640"
      ]
     },
     "execution_count": 40,
     "metadata": {},
     "output_type": "execute_result"
    }
   ],
   "source": [
    "len(set(trend_data.date))"
   ]
  },
  {
   "cell_type": "code",
   "execution_count": 41,
   "metadata": {},
   "outputs": [],
   "source": [
    "#jupyter에서 matplotlib을 사용해 만든 graph를 화면에 표시하기 위해 필요\n",
    "%matplotlib inline \n",
    "\n",
    "import matplotlib.pyplot as plt\n",
    "\n",
    "#아래는 한글을 사용할 때 깨지는 문제에 대한 해결\n",
    "from matplotlib import font_manager, rc\n",
    "font_name = font_manager.FontProperties(fname=\"c:/Windows/Fonts/malgun.ttf\").get_name()\n",
    "rc('font', family=font_name)\n",
    "\n",
    "#그래프의 축 등에서 음수를 표시할 때 minus sign이 깨지는 것 해결\n",
    "import matplotlib as mpl\n",
    "mpl.rcParams['axes.unicode_minus'] = False"
   ]
  },
  {
   "cell_type": "code",
   "execution_count": 42,
   "metadata": {},
   "outputs": [
    {
     "data": {
      "image/png": "[encoded data removed]",
      "text/plain": [
       "<Figure size 432x288 with 1 Axes>"
      ]
     },
     "metadata": {},
     "output_type": "display_data"
    }
   ],
   "source": [
    "plt.plot(trend.index[:100], trend.topic1[:100])\n",
    "plt.show()"
   ]
  },
  {
   "cell_type": "code",
   "execution_count": null,
   "metadata": {},
   "outputs": [],
   "source": []
  }
 ],
 "metadata": {
  "kernelspec": {
   "display_name": "Python 3",
   "language": "python",
   "name": "python3"
  },
  "language_info": {
   "codemirror_mode": {
    "name": "ipython",
    "version": 3
   },
   "file_extension": ".py",
   "mimetype": "text/x-python",
   "name": "python",
   "nbconvert_exporter": "python",
   "pygments_lexer": "ipython3",
   "version": "3.6.5"
  }
 },
 "nbformat": 4,
 "nbformat_minor": 2
}
